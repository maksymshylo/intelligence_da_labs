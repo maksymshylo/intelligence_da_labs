{
 "cells": [
  {
   "cell_type": "markdown",
   "metadata": {},
   "source": [
    "## Linear regression\n",
    "```\n",
    "Сгенерируйте синтетический набор точек вида y = ax+b+noise. Решите задачу линейной\n",
    "регрессии для множества точек (x, y). Поиск параметров произведите с помощью\n",
    "градиентного спуска. Результат — параметры линейной регрессии.\n",
    "```"
   ]
  },
  {
   "cell_type": "code",
   "execution_count": 141,
   "metadata": {},
   "outputs": [],
   "source": [
    "import numpy as np"
   ]
  },
  {
   "cell_type": "code",
   "execution_count": 238,
   "metadata": {},
   "outputs": [
    {
     "name": "stdout",
     "output_type": "stream",
     "text": [
      "(100, 1) (100, 1)\n"
     ]
    }
   ],
   "source": [
    "a,b= 2,5\n",
    "#An example to implement linear Regression on Linear dataset\n",
    "#Create 100 points between -5 and 5\n",
    "X = np.random.uniform(low =0,high =20, size=100).reshape(-1,1)\n",
    "noise = np.random.uniform(low =0,high =5, size=100).reshape(-1,1)\n",
    "y = a * X + b + noise\n",
    "print(X.shape, y.shape)"
   ]
  },
  {
   "cell_type": "code",
   "execution_count": 239,
   "metadata": {},
   "outputs": [
    {
     "data": {
      "image/png": "[encoded data removed]",
      "text/plain": [
       "<Figure size 432x288 with 1 Axes>"
      ]
     },
     "metadata": {
      "needs_background": "light"
     },
     "output_type": "display_data"
    }
   ],
   "source": [
    "import matplotlib.pyplot as plt\n",
    "plt.plot(X,y,'bo')\n",
    "plt.ylabel('y')\n",
    "plt.xlabel('x')\n",
    "plt.show()"
   ]
  },
  {
   "cell_type": "code",
   "execution_count": 263,
   "metadata": {},
   "outputs": [],
   "source": [
    "def lin_reg(X,y):\n",
    "    theta = np.random.rand(2)\n",
    "    print(\"Initial weights\", theta)\n",
    "    m = np.size(y)\n",
    "    X = np.hstack([np.ones_like(X),X])\n",
    "    alpha = 0.01 # learning rate\n",
    "    iterations = 4000\n",
    "    for i in range(iterations):\n",
    "        y_estimate = (X).dot(theta).flatten()\n",
    "        error = (y.flatten()-y_estimate)\n",
    "        gradient = -(1.0/m) * error.dot(X)\n",
    "        theta = theta - alpha * gradient\n",
    "    return theta"
   ]
  },
  {
   "cell_type": "code",
   "execution_count": 264,
   "metadata": {},
   "outputs": [
    {
     "name": "stdout",
     "output_type": "stream",
     "text": [
      "Initial weights [0.25831673 0.08510624]\n",
      "Last weights [7.79147077 1.99198669]\n",
      "Real weights [5, 2]\n"
     ]
    }
   ],
   "source": [
    "theta  = lin_reg(X,y)\n",
    "print(\"Last weights\",theta)\n",
    "print(\"Real weights\",[b,a])"
   ]
  },
  {
   "cell_type": "code",
   "execution_count": 265,
   "metadata": {},
   "outputs": [
    {
     "data": {
      "image/png": "[encoded data removed]",
      "text/plain": [
       "<Figure size 432x288 with 1 Axes>"
      ]
     },
     "metadata": {
      "needs_background": "light"
     },
     "output_type": "display_data"
    }
   ],
   "source": [
    "plt.plot(X, (np.hstack([np.ones_like(X),X])).dot(theta), c='g')\n",
    "plt.scatter(X, y, c='b')\n",
    "plt.xlabel('x')\n",
    "plt.ylabel('y')\n",
    "plt.show()"
   ]
  },
  {
   "cell_type": "markdown",
   "metadata": {},
   "source": [
    "## Using sklearn"
   ]
  },
  {
   "cell_type": "code",
   "execution_count": 266,
   "metadata": {},
   "outputs": [
    {
     "name": "stdout",
     "output_type": "stream",
     "text": [
      "theta_1: [1.99195925] theta_2: [7.79182061]\n"
     ]
    }
   ],
   "source": [
    "from sklearn.linear_model import LinearRegression\n",
    "reg = LinearRegression().fit(X, y)\n",
    "print(\"theta_1:\",reg.coef_.flatten(), \"theta_2:\",reg.intercept_)"
   ]
  }
 ],
 "metadata": {
  "kernelspec": {
   "display_name": "Python 3",
   "language": "python",
   "name": "python3"
  },
  "language_info": {
   "codemirror_mode": {
    "name": "ipython",
    "version": 3
   },
   "file_extension": ".py",
   "mimetype": "text/x-python",
   "name": "python",
   "nbconvert_exporter": "python",
   "pygments_lexer": "ipython3",
   "version": "3.8.2"
  }
 },
 "nbformat": 4,
 "nbformat_minor": 4
}
